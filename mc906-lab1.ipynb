{
 "cells": [
  {
   "cell_type": "code",
   "execution_count": 1,
   "metadata": {},
   "outputs": [],
   "source": [
    "import numpy as np\n",
    "import matplotlib.pyplot as plt\n",
    "import networkx as nx\n",
    "from collections import deque\n",
    "from utils import memoize, PriorityQueue\n",
    "from search import UndirectedGraph, GraphProblem, Node\n",
    "from matplotlib import lines\n",
    "from matplotlib.colors import ListedColormap\n",
    "from scipy.spatial import distance"
   ]
  },
  {
   "cell_type": "markdown",
   "metadata": {},
   "source": [
    "## Modelagem do mapa"
   ]
  },
  {
   "cell_type": "code",
   "execution_count": 2,
   "metadata": {},
   "outputs": [],
   "source": [
    "border = [0,0,0,0,0,0,0,0,0,0,0,0,0,0,0,0,0,0,0,0,0,0,0,0,0,0,0,0,0,0,0,0,0,0,0,0,0,0,0,0,0,0,0,0,0,0,0,0,0,0,0,0,0,0,0,0,0,0,0,0]\n",
    "wall_right = [0,1,1,1,1,1,1,1,1,1,1,1,1,1,1,1,1,1,1,1,1,1,1,1,1,1,1,1,1,1,1,1,1,1,1,1,1,1,1,0,1,1,1,1,1,1,1,1,1,1,1,1,1,1,1,1,1,1,1,0]\n",
    "wall_left = [0,1,1,1,1,1,1,1,1,1,1,1,1,1,1,1,1,1,1,0,1,1,1,1,1,1,1,1,1,1,1,1,1,1,1,1,1,1,1,1,1,1,1,1,1,1,1,1,1,1,1,1,1,1,1,1,1,1,1,0]\n",
    "two_walls = [0,1,1,1,1,1,1,1,1,1,1,1,1,1,1,1,1,1,1,0,1,1,1,1,1,1,1,1,1,1,1,1,1,1,1,1,1,1,1,0,1,1,1,1,1,1,1,1,1,1,1,1,1,1,1,1,1,1,1,0]"
   ]
  },
  {
   "cell_type": "code",
   "execution_count": 3,
   "metadata": {},
   "outputs": [],
   "source": [
    "border = np.array(border)\n",
    "wall_right = np.array(wall_right)\n",
    "wall_left = np.array(wall_left)\n",
    "two_walls = np.array(two_walls)\n"
   ]
  },
  {
   "cell_type": "code",
   "execution_count": 4,
   "metadata": {},
   "outputs": [
    {
     "name": "stdout",
     "output_type": "stream",
     "text": [
      "(60, 60)\n"
     ]
    }
   ],
   "source": [
    "# Cria o board\n",
    "board =[]\n",
    "\n",
    "# Add parede de cima\n",
    "board.append(border)\n",
    "\n",
    "# Add 20 wall rights\n",
    "board.extend([wall_right]*19)\n",
    "\n",
    "# Add 20 wall duplas\n",
    "board.extend([two_walls]*20)\n",
    "\n",
    "# Add 20 wall lefts\n",
    "board.extend([wall_left]*19)\n",
    "\n",
    "# Add parede de baixo\n",
    "board.append(border)\n",
    "\n",
    "board = np.array(board)\n",
    "\n",
    "print(board.shape)"
   ]
  },
  {
   "cell_type": "code",
   "execution_count": 5,
   "metadata": {},
   "outputs": [],
   "source": [
    "b = board.copy()\n",
    "b[50][10] = 2\n",
    "b[10][50] = 3"
   ]
  },
  {
   "cell_type": "code",
   "execution_count": 6,
   "metadata": {},
   "outputs": [
    {
     "data": {
      "text/plain": [
       "<matplotlib.image.AxesImage at 0x7efcb18bea20>"
      ]
     },
     "execution_count": 6,
     "metadata": {},
     "output_type": "execute_result"
    },
    {
     "data": {
      "image/png": "[encoded data removed]",
      "text/plain": [
       "<Figure size 288x288 with 1 Axes>"
      ]
     },
     "metadata": {},
     "output_type": "display_data"
    }
   ],
   "source": [
    "plt.matshow(b, cmap=ListedColormap(['k', 'w', 'r', 'g']))"
   ]
  },
  {
   "cell_type": "markdown",
   "metadata": {},
   "source": [
    "# Grafo com vizinhos a 90 graus"
   ]
  },
  {
   "cell_type": "code",
   "execution_count": 7,
   "metadata": {},
   "outputs": [],
   "source": [
    "state = {}\n",
    "locations = {}\n",
    "for i in range(60):\n",
    "    for j in range(60):\n",
    "        if board[i][j]:\n",
    "            locations[60*i+j] = (i,j)\n",
    "            # Cria nós com as vizinhanças\n",
    "            neighbors = {}\n",
    "            if i-1 < 60 and board[i-1][j]:\n",
    "                neighbors[60*(i-1)+j] = 1\n",
    "            if i+1 < 60 and board[i+1][j]:\n",
    "                neighbors[60*(i+1)+j] = 1\n",
    "            if j-1 < 60 and board[i][j-1]:\n",
    "                neighbors[60*i+j-1] = 1\n",
    "            if j+1 < 60 and board[i][j+1]:\n",
    "                neighbors[60*i+j+1] = 1\n",
    "\n",
    "            state[60*i+j] = neighbors "
   ]
  },
  {
   "cell_type": "code",
   "execution_count": 8,
   "metadata": {},
   "outputs": [],
   "source": [
    "node_colors = {node: 'white' for node in locations.keys()}\n",
    "node_positions = locations\n",
    "node_label_pos = { k:[v[0],v[1]-10]  for k,v in locations.items() }\n",
    "edge_weights = {(k, k2) : v2 for k, v in state.items() for k2, v2 in v.items()}\n",
    "\n",
    "robot_map = {  'graph_dict' : state,\n",
    "                        'node_colors': node_colors,\n",
    "                        'node_positions': node_positions,\n",
    "                        'node_label_positions': node_label_pos,\n",
    "                         'edge_weights': edge_weights\n",
    "                     }"
   ]
  },
  {
   "cell_type": "code",
   "execution_count": 9,
   "metadata": {},
   "outputs": [],
   "source": [
    "state = UndirectedGraph(state)\n",
    "problem = GraphProblem(3010, 650, state)"
   ]
  },
  {
   "cell_type": "markdown",
   "metadata": {},
   "source": [
    "## Funções auxiliares"
   ]
  },
  {
   "cell_type": "code",
   "execution_count": 10,
   "metadata": {},
   "outputs": [],
   "source": [
    "def create_path(node):\n",
    "    path = deque()\n",
    "    n = node\n",
    "    while n is not None:\n",
    "        path.appendleft(n)\n",
    "        n = n.parent\n",
    "    return path\n",
    "\n",
    "def print_path(path, explored):\n",
    "    b = board.copy()    \n",
    "    for node in explored:\n",
    "        i, j = node_positions[node]\n",
    "        b[i][j] = 3\n",
    "    \n",
    "    for node in path:\n",
    "        i, j = node_positions[node.state]\n",
    "        b[i][j] = 2\n",
    "        \n",
    "    plt.matshow(b, cmap=ListedColormap(['k','w','r','r','b']))"
   ]
  },
  {
   "cell_type": "markdown",
   "metadata": {},
   "source": [
    "## Breadth First Search\n",
    "\n",
    "A função foi copiada da biblioteca do AIMA com duas adaptações:\n",
    "* Guardamos o caminho da solução encontrada\n",
    "* Guardamos quantos nós foram visitados até a solução ser encontrada"
   ]
  },
  {
   "cell_type": "code",
   "execution_count": 11,
   "metadata": {},
   "outputs": [],
   "source": [
    "def breadth_first_graph_search(problem):\n",
    "    \"\"\"[Figure 3.11]\n",
    "    Note that this function can be implemented in a\n",
    "    single line as below:\n",
    "    return graph_search(problem, FIFOQueue())\n",
    "    \"\"\"\n",
    "    node = Node(problem.initial)\n",
    "    visitations = 0\n",
    "    node.parent = None\n",
    "    if problem.goal_test(node.state):\n",
    "        return node, 0, explored\n",
    "    frontier = deque([node])\n",
    "    explored = set()\n",
    "    while frontier:\n",
    "        node = frontier.popleft()\n",
    "        visitations += 1\n",
    "        explored.add(node.state)\n",
    "        for child in node.expand(problem):\n",
    "            child.parent = node\n",
    "            if child.state not in explored and child not in frontier:\n",
    "                if problem.goal_test(child.state):\n",
    "                    return child, visitations, explored\n",
    "                frontier.append(child)\n",
    "    return None"
   ]
  },
  {
   "cell_type": "code",
   "execution_count": 12,
   "metadata": {},
   "outputs": [
    {
     "name": "stdout",
     "output_type": "stream",
     "text": [
      "Visitamos 3105 nós até encontrar um caminho-solução composto por 123 nós\n",
      "CPU times: user 137 ms, sys: 120 µs, total: 138 ms\n",
      "Wall time: 137 ms\n"
     ]
    },
    {
     "data": {
      "image/png": "[encoded data removed]",
      "text/plain": [
       "<Figure size 288x288 with 1 Axes>"
      ]
     },
     "metadata": {},
     "output_type": "display_data"
    }
   ],
   "source": [
    "%%time\n",
    "node, visitations, explored = breadth_first_graph_search(problem)\n",
    "path = create_path(node)\n",
    "print_path(path, explored)\n",
    "print(\"Visitamos %d nós até encontrar um caminho-solução composto por %d nós\" % (visitations, len(path)))"
   ]
  },
  {
   "cell_type": "markdown",
   "metadata": {},
   "source": [
    "## Depth First Search\n",
    "\n",
    "A função foi copiada da biblioteca do AIMA com duas adaptações:\n",
    "* Guardamos o caminho da solução encontrada\n",
    "* Guardamos quantos nós foram visitados até a solução ser encontrada"
   ]
  },
  {
   "cell_type": "code",
   "execution_count": 13,
   "metadata": {},
   "outputs": [],
   "source": [
    "def depth_first_graph_search(problem):\n",
    "    \"\"\"Search the deepest nodes in the search tree first.\n",
    "        Search through the successors of a problem to find a goal.\n",
    "        The argument frontier should be an empty queue.\n",
    "        Does not get trapped by loops.\n",
    "        If two paths reach a state, only use the first one. [Figure 3.7]\"\"\"\n",
    "    initial_node = Node(problem.initial)\n",
    "    initial_node.parent = None\n",
    "    frontier = [(initial_node)]  # Stack\n",
    "    visitations = 0\n",
    "    explored = set()\n",
    "    while frontier:\n",
    "        node = frontier.pop()\n",
    "        visitations += 1\n",
    "        if problem.goal_test(node.state):\n",
    "            return node, visitations, explored\n",
    "        explored.add(node.state)\n",
    "        for child in node.expand(problem):\n",
    "            child.parent = node\n",
    "            if child.state not in explored and child not in frontier:\n",
    "                frontier.append(child)\n",
    "    return None"
   ]
  },
  {
   "cell_type": "code",
   "execution_count": 14,
   "metadata": {},
   "outputs": [
    {
     "name": "stdout",
     "output_type": "stream",
     "text": [
      "Visitamos 1422 nós até encontrar um caminho-solução composto por 1111 nós\n",
      "CPU times: user 1.28 s, sys: 2.03 ms, total: 1.28 s\n",
      "Wall time: 1.28 s\n"
     ]
    },
    {
     "data": {
      "image/png": "[encoded data removed]",
      "text/plain": [
       "<Figure size 288x288 with 1 Axes>"
      ]
     },
     "metadata": {},
     "output_type": "display_data"
    }
   ],
   "source": [
    "%%time\n",
    "node, visitations, explored = depth_first_graph_search(problem)\n",
    "path = create_path(node)\n",
    "print_path(path, explored)\n",
    "print(\"Visitamos %d nós até encontrar um caminho-solução composto por %d nós\" % (visitations, len(path)))"
   ]
  },
  {
   "cell_type": "markdown",
   "metadata": {},
   "source": [
    "## Best First Search\n",
    "\n",
    "Utilizamos a função do A* da biblioteca do AIMA com a heurística f(n) = h(n) sendo h(n) a distância euclidiana para o nó meta"
   ]
  },
  {
   "cell_type": "code",
   "execution_count": 15,
   "metadata": {},
   "outputs": [],
   "source": [
    "def f1(node):\n",
    "    return distance.euclidean(node_positions[node.state], node_positions[3010])"
   ]
  },
  {
   "cell_type": "code",
   "execution_count": 16,
   "metadata": {},
   "outputs": [],
   "source": [
    "def best_first_graph_search(problem, f):\n",
    "    \"\"\"Search the nodes with the lowest f scores first.\n",
    "    You specify the function f(node) that you want to minimize; for example,\n",
    "    if f is a heuristic estimate to the goal, then we have greedy best\n",
    "    first search; if f is node.depth then we have breadth-first search.\n",
    "    There is a subtlety: the line \"f = memoize(f, 'f')\" means that the f\n",
    "    values will be cached on the nodes as they are computed. So after doing\n",
    "    a best first search you can examine the f values of the path returned.\"\"\"\n",
    "    f = memoize(f, 'f')\n",
    "    node = Node(problem.initial)\n",
    "    node.parent = None\n",
    "    visitations = 0\n",
    "    frontier = PriorityQueue('min', f)\n",
    "    frontier.append(node)\n",
    "    explored = set()\n",
    "    while frontier:\n",
    "        node = frontier.pop()\n",
    "        visitations += 1\n",
    "        if problem.goal_test(node.state):\n",
    "            return node, visitations, explored\n",
    "        explored.add(node.state)\n",
    "        for child in node.expand(problem):\n",
    "            child.parent = node\n",
    "            if child.state not in explored and child not in frontier:\n",
    "                frontier.append(child)\n",
    "            elif child in frontier:\n",
    "                if f(child) < frontier[child]:\n",
    "                    del frontier[child]\n",
    "                    frontier.append(child)\n",
    "    return None"
   ]
  },
  {
   "cell_type": "code",
   "execution_count": 17,
   "metadata": {},
   "outputs": [],
   "source": [
    "def astar_search(problem, h=None):\n",
    "    \"\"\"A* search is best-first graph search with f(n) = g(n)+h(n).\n",
    "    You need to specify the h function when you call astar_search, or\n",
    "    else in your Problem subclass.\"\"\"\n",
    "    h = memoize(h or problem.h, 'h')\n",
    "    return best_first_graph_search(problem, lambda n: n.path_cost + h(n))"
   ]
  },
  {
   "cell_type": "code",
   "execution_count": 18,
   "metadata": {},
   "outputs": [
    {
     "name": "stdout",
     "output_type": "stream",
     "text": [
      "Visitamos 3116 nós até encontrar um caminho-solução composto por 123 nós\n",
      "CPU times: user 824 ms, sys: 24.8 ms, total: 848 ms\n",
      "Wall time: 788 ms\n"
     ]
    },
    {
     "data": {
      "image/png": "[encoded data removed]",
      "text/plain": [
       "<Figure size 288x288 with 1 Axes>"
      ]
     },
     "metadata": {},
     "output_type": "display_data"
    }
   ],
   "source": [
    "%%time\n",
    "node, visitations, explored = astar_search(problem,f1)\n",
    "path = create_path(node)\n",
    "print_path(path, explored)\n",
    "print(\"Visitamos %d nós até encontrar um caminho-solução composto por %d nós\" % (visitations, len(path)))"
   ]
  },
  {
   "cell_type": "markdown",
   "metadata": {},
   "source": [
    "## A* \n",
    "\n",
    "Aqui utilizamos uma heurística diferente"
   ]
  },
  {
   "cell_type": "code",
   "execution_count": 19,
   "metadata": {},
   "outputs": [],
   "source": [
    "def f2(node):\n",
    "    if node.parent is None:\n",
    "        goal = Node(problem.initial)\n",
    "    else:\n",
    "        goal = node.parent.goal\n",
    "    min_dist = 0x3f3f3f3f\n",
    "    for child_goal in goal.expand(problem):\n",
    "        for child in node.expand(problem):\n",
    "            dist = distance.euclidean(node_positions[child.state], node_positions[child_goal.state])\n",
    "            if dist < min_dist:\n",
    "                min_dist = dist\n",
    "                min_goal_child = child_goal\n",
    "    \n",
    "    node.goal = min_goal_child\n",
    "    return min_dist"
   ]
  },
  {
   "cell_type": "code",
   "execution_count": 20,
   "metadata": {},
   "outputs": [
    {
     "name": "stdout",
     "output_type": "stream",
     "text": [
      "Visitamos 3125 nós até encontrar um caminho-solução composto por 123 nós\n",
      "CPU times: user 3.87 s, sys: 0 ns, total: 3.87 s\n",
      "Wall time: 3.91 s\n"
     ]
    },
    {
     "data": {
      "image/png": "[encoded data removed]",
      "text/plain": [
       "<Figure size 288x288 with 1 Axes>"
      ]
     },
     "metadata": {},
     "output_type": "display_data"
    }
   ],
   "source": [
    "%%time\n",
    "node, visitations, explored = astar_search(problem,f2)\n",
    "path = create_path(node)\n",
    "print_path(path, explored)\n",
    "print(\"Visitamos %d nós até encontrar um caminho-solução composto por %d nós\" % (visitations, len(path)))"
   ]
  },
  {
   "cell_type": "markdown",
   "metadata": {},
   "source": [
    "## Discretizando com 45º"
   ]
  },
  {
   "cell_type": "code",
   "execution_count": 21,
   "metadata": {},
   "outputs": [],
   "source": [
    "state = {}\n",
    "locations = {}\n",
    "for i in range(60):\n",
    "    for j in range(60):\n",
    "        if board[i][j]:\n",
    "            locations[60*i+j] = (i,j)\n",
    "            # Cria nós com as vizinhanças cima, baixo, esq, dir\n",
    "            neighbors = {}\n",
    "            if i-1 < 60 and board[i-1][j]:\n",
    "                neighbors[60*(i-1)+j] = 1\n",
    "            if i+1 < 60 and board[i+1][j]:\n",
    "                neighbors[60*(i+1)+j] = 1\n",
    "            if j-1 < 60 and board[i][j-1]:\n",
    "                neighbors[60*i+j-1] = 1\n",
    "            if j+1 < 60 and board[i][j+1]:\n",
    "                neighbors[60*i+j+1] = 1\n",
    "                \n",
    "            # Cria nós com as vizinhanças em 45 graus\n",
    "            if i-1 < 60 and j-1 < 60 and board[i-1][j-1]:\n",
    "                neighbors[60*(i-1)+(j-1)] = 1\n",
    "            if i-1 < 60 and j+1 < 60 and board[i-1][j+1]:\n",
    "                neighbors[60*(i-1)+(j+1)] = 1\n",
    "            if i+1 < 60 and j-1 < 60 and board[i+1][j-1]:\n",
    "                neighbors[60*(i+1)+(j-1)] = 1\n",
    "            if i+1 < 60 and j+1 < 60 and board[i+1][j+1]:\n",
    "                neighbors[60*(i+1)+(j+1)] = 1\n",
    "                \n",
    "            state[60*i+j] = neighbors "
   ]
  },
  {
   "cell_type": "code",
   "execution_count": 22,
   "metadata": {},
   "outputs": [],
   "source": [
    "node_colors = {node: 'white' for node in locations.keys()}\n",
    "node_positions = locations\n",
    "node_label_pos = { k:[v[0],v[1]-10]  for k,v in locations.items() }\n",
    "edge_weights = {(k, k2) : v2 for k, v in state.items() for k2, v2 in v.items()}\n",
    "\n",
    "robot_map = {  'graph_dict' : state,\n",
    "                        'node_colors': node_colors,\n",
    "                        'node_positions': node_positions,\n",
    "                        'node_label_positions': node_label_pos,\n",
    "                         'edge_weights': edge_weights\n",
    "                     }"
   ]
  },
  {
   "cell_type": "code",
   "execution_count": 23,
   "metadata": {},
   "outputs": [],
   "source": [
    "state = UndirectedGraph(state)\n",
    "problem = GraphProblem(3010, 650, state)"
   ]
  },
  {
   "cell_type": "markdown",
   "metadata": {},
   "source": [
    "## Breadth First Search"
   ]
  },
  {
   "cell_type": "code",
   "execution_count": 24,
   "metadata": {},
   "outputs": [
    {
     "name": "stdout",
     "output_type": "stream",
     "text": [
      "Visitamos 3087 nós até encontrar um caminho-solução composto por 83 nós\n",
      "CPU times: user 297 ms, sys: 3.69 ms, total: 300 ms\n",
      "Wall time: 300 ms\n"
     ]
    },
    {
     "data": {
      "image/png": "[encoded data removed]",
      "text/plain": [
       "<Figure size 288x288 with 1 Axes>"
      ]
     },
     "metadata": {},
     "output_type": "display_data"
    }
   ],
   "source": [
    "%%time\n",
    "node, visitations, explored = breadth_first_graph_search(problem)\n",
    "path = create_path(node)\n",
    "print_path(path, explored)\n",
    "print(\"Visitamos %d nós até encontrar um caminho-solução composto por %d nós\" % (visitations, len(path)))"
   ]
  },
  {
   "cell_type": "markdown",
   "metadata": {},
   "source": [
    "## Depth First Search"
   ]
  },
  {
   "cell_type": "code",
   "execution_count": 25,
   "metadata": {},
   "outputs": [
    {
     "name": "stdout",
     "output_type": "stream",
     "text": [
      "Visitamos 1546 nós até encontrar um caminho-solução composto por 394 nós\n",
      "CPU times: user 2.02 s, sys: 72.6 ms, total: 2.09 s\n",
      "Wall time: 2 s\n"
     ]
    },
    {
     "data": {
      "image/png": "[encoded data removed]",
      "text/plain": [
       "<Figure size 288x288 with 1 Axes>"
      ]
     },
     "metadata": {},
     "output_type": "display_data"
    }
   ],
   "source": [
    "%%time\n",
    "node, visitations, explored = depth_first_graph_search(problem)\n",
    "path = create_path(node)\n",
    "print_path(path, explored)\n",
    "print(\"Visitamos %d nós até encontrar um caminho-solução composto por %d nós\" % (visitations, len(path)))"
   ]
  },
  {
   "cell_type": "markdown",
   "metadata": {},
   "source": [
    "## Best First Search"
   ]
  },
  {
   "cell_type": "code",
   "execution_count": 26,
   "metadata": {},
   "outputs": [
    {
     "name": "stdout",
     "output_type": "stream",
     "text": [
      "Visitamos 3110 nós até encontrar um caminho-solução composto por 83 nós\n",
      "CPU times: user 2.05 s, sys: 55.6 ms, total: 2.1 s\n",
      "Wall time: 1.99 s\n"
     ]
    },
    {
     "data": {
      "image/png": "[encoded data removed]",
      "text/plain": [
       "<Figure size 288x288 with 1 Axes>"
      ]
     },
     "metadata": {},
     "output_type": "display_data"
    }
   ],
   "source": [
    "%%time\n",
    "node, visitations, explored = astar_search(problem,f1)\n",
    "path = create_path(node)\n",
    "print_path(path, explored)\n",
    "print(\"Visitamos %d nós até encontrar um caminho-solução composto por %d nós\" % (visitations, len(path)))"
   ]
  },
  {
   "cell_type": "markdown",
   "metadata": {},
   "source": [
    "## A* Search"
   ]
  },
  {
   "cell_type": "code",
   "execution_count": 27,
   "metadata": {},
   "outputs": [
    {
     "name": "stdout",
     "output_type": "stream",
     "text": [
      "Visitamos 3107 nós até encontrar um caminho-solução composto por 83 nós\n",
      "CPU times: user 25.6 s, sys: 36.7 ms, total: 25.6 s\n",
      "Wall time: 25.6 s\n"
     ]
    },
    {
     "data": {
      "image/png": "[encoded data removed]",
      "text/plain": [
       "<Figure size 288x288 with 1 Axes>"
      ]
     },
     "metadata": {},
     "output_type": "display_data"
    }
   ],
   "source": [
    "%%time\n",
    "node, visitations, explored = astar_search(problem,f2)\n",
    "path = create_path(node)\n",
    "print_path(path, explored)\n",
    "print(\"Visitamos %d nós até encontrar um caminho-solução composto por %d nós\" % (visitations, len(path)))"
   ]
  }
 ],
 "metadata": {
  "kernelspec": {
   "display_name": "Python 3",
   "language": "python",
   "name": "python3"
  },
  "language_info": {
   "codemirror_mode": {
    "name": "ipython",
    "version": 3
   },
   "file_extension": ".py",
   "mimetype": "text/x-python",
   "name": "python",
   "nbconvert_exporter": "python",
   "pygments_lexer": "ipython3",
   "version": "3.5.2"
  }
 },
 "nbformat": 4,
 "nbformat_minor": 2
}
