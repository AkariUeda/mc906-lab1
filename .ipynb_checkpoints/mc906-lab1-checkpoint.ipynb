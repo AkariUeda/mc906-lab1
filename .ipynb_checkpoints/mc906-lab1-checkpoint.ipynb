{
 "cells": [
  {
   "cell_type": "code",
   "execution_count": 297,
   "metadata": {},
   "outputs": [],
   "source": [
    "import numpy as np\n",
    "import matplotlib.pyplot as plt\n",
    "from search import *\n",
    "import networkx as nx\n",
    "from matplotlib import lines\n",
    "from matplotlib.colors import ListedColormap\n",
    "from scipy.spatial import distance\n"
   ]
  },
  {
   "cell_type": "markdown",
   "metadata": {},
   "source": [
    "## Modelagem do mapa"
   ]
  },
  {
   "cell_type": "code",
   "execution_count": 293,
   "metadata": {},
   "outputs": [],
   "source": [
    "border = [0,0,0,0,0,0,0,0,0,0,0,0,0,0,0,0,0,0,0,0,0,0,0,0,0,0,0,0,0,0,0,0,0,0,0,0,0,0,0,0,0,0,0,0,0,0,0,0,0,0,0,0,0,0,0,0,0,0,0,0]\n",
    "wall_right = [0,1,1,1,1,1,1,1,1,1,1,1,1,1,1,1,1,1,1,1,1,1,1,1,1,1,1,1,1,1,1,1,1,1,1,1,1,1,1,0,1,1,1,1,1,1,1,1,1,1,1,1,1,1,1,1,1,1,1,0]\n",
    "wall_left = [0,1,1,1,1,1,1,1,1,1,1,1,1,1,1,1,1,1,1,0,1,1,1,1,1,1,1,1,1,1,1,1,1,1,1,1,1,1,1,1,1,1,1,1,1,1,1,1,1,1,1,1,1,1,1,1,1,1,1,0]\n",
    "two_walls = [0,1,1,1,1,1,1,1,1,1,1,1,1,1,1,1,1,1,1,0,1,1,1,1,1,1,1,1,1,1,1,1,1,1,1,1,1,1,1,0,1,1,1,1,1,1,1,1,1,1,1,1,1,1,1,1,1,1,1,0]"
   ]
  },
  {
   "cell_type": "code",
   "execution_count": 294,
   "metadata": {},
   "outputs": [],
   "source": [
    "border = np.array(border)\n",
    "wall_right = np.array(wall_right)\n",
    "wall_left = np.array(wall_left)\n",
    "two_walls = np.array(two_walls)\n"
   ]
  },
  {
   "cell_type": "code",
   "execution_count": 295,
   "metadata": {},
   "outputs": [
    {
     "name": "stdout",
     "output_type": "stream",
     "text": [
      "(60, 60)\n"
     ]
    }
   ],
   "source": [
    "# Cria o board\n",
    "board =[]\n",
    "\n",
    "# Add parede de cima\n",
    "board.append(border)\n",
    "\n",
    "# Add 20 wall rights\n",
    "board.extend([wall_right]*19)\n",
    "\n",
    "# Add 20 wall duplas\n",
    "board.extend([two_walls]*20)\n",
    "\n",
    "# Add 20 wall lefts\n",
    "board.extend([wall_left]*19)\n",
    "\n",
    "# Add parede de baixo\n",
    "board.append(border)\n",
    "\n",
    "board = np.array(board)\n",
    "\n",
    "print(board.shape)"
   ]
  },
  {
   "cell_type": "code",
   "execution_count": 296,
   "metadata": {},
   "outputs": [
    {
     "data": {
      "text/plain": [
       "<matplotlib.image.AxesImage at 0x7fea3109e6d8>"
      ]
     },
     "execution_count": 296,
     "metadata": {},
     "output_type": "execute_result"
    },
    {
     "data": {
      "image/png": "[encoded data removed]",
      "text/plain": [
       "<Figure size 288x288 with 1 Axes>"
      ]
     },
     "metadata": {},
     "output_type": "display_data"
    }
   ],
   "source": [
    "plt.matshow(board, cmap=ListedColormap(['k', 'w']))"
   ]
  },
  {
   "cell_type": "markdown",
   "metadata": {},
   "source": [
    "## Criação do grafo"
   ]
  },
  {
   "cell_type": "code",
   "execution_count": 237,
   "metadata": {},
   "outputs": [],
   "source": [
    "state = {}\n",
    "locations = {}\n",
    "for i in range(60):\n",
    "    for j in range(60):\n",
    "        if board[i][j]:\n",
    "            locations[60*i+j] = (i,j)\n",
    "            # Cria nós com as vizinhanças\n",
    "            neighbors = {}\n",
    "            if i-1 < 60 and board[i-1][j]:\n",
    "                neighbors[60*(i-1)+j] = 1\n",
    "            if i+1 < 60 and board[i+1][j]:\n",
    "                neighbors[60*(i+1)+j] = 1\n",
    "            if j-1 < 60 and board[i][j-1]:\n",
    "                neighbors[60*i+j-1] = 1\n",
    "            if j+1 < 60 and board[i][j+1]:\n",
    "                neighbors[60*i+j+1] = 1\n",
    "\n",
    "            state[60*i+j] = neighbors "
   ]
  },
  {
   "cell_type": "code",
   "execution_count": 238,
   "metadata": {},
   "outputs": [],
   "source": [
    "node_colors = {node: 'white' for node in locations.keys()}\n",
    "node_positions = locations\n",
    "node_label_pos = { k:[v[0],v[1]-10]  for k,v in locations.items() }\n",
    "edge_weights = {(k, k2) : v2 for k, v in state.items() for k2, v2 in v.items()}\n",
    "\n",
    "robot_map = {  'graph_dict' : state,\n",
    "                        'node_colors': node_colors,\n",
    "                        'node_positions': node_positions,\n",
    "                        'node_label_positions': node_label_pos,\n",
    "                         'edge_weights': edge_weights\n",
    "                     }"
   ]
  },
  {
   "cell_type": "code",
   "execution_count": 239,
   "metadata": {},
   "outputs": [],
   "source": [
    "state = UndirectedGraph(state)\n",
    "problem = GraphProblem(3010, 650, state)"
   ]
  },
  {
   "cell_type": "markdown",
   "metadata": {},
   "source": [
    "## Funções auxiliares"
   ]
  },
  {
   "cell_type": "code",
   "execution_count": 331,
   "metadata": {},
   "outputs": [],
   "source": [
    "def create_path(node):\n",
    "    path = deque()\n",
    "    while node is not None:\n",
    "        path.appendleft(node)\n",
    "        node = node.parent\n",
    "    return path\n",
    "\n",
    "def print_path(path, explored):\n",
    "    b = board.copy()    \n",
    "    for node in explored:\n",
    "        i, j = node_positions[node]\n",
    "        b[i][j] = 3\n",
    "    \n",
    "    for node in path:\n",
    "        i, j = node_positions[node.state]\n",
    "        b[i][j] = 2\n",
    "        \n",
    "    plt.matshow(b, cmap=ListedColormap(['k','w','r','r','b']))"
   ]
  },
  {
   "cell_type": "markdown",
   "metadata": {},
   "source": [
    "## Breadth First Search\n",
    "\n",
    "A função foi copiada da biblioteca do AIMA com duas adaptações:\n",
    "* Guardamos o caminho da solução encontrada\n",
    "* Guardamos quantos nós foram visitados até a solução ser encontrada"
   ]
  },
  {
   "cell_type": "code",
   "execution_count": 332,
   "metadata": {},
   "outputs": [],
   "source": [
    "def breadth_first_graph_search(problem):\n",
    "    \"\"\"[Figure 3.11]\n",
    "    Note that this function can be implemented in a\n",
    "    single line as below:\n",
    "    return graph_search(problem, FIFOQueue())\n",
    "    \"\"\"\n",
    "    node = Node(problem.initial)\n",
    "    visitations = 0\n",
    "    node.parent = None\n",
    "    if problem.goal_test(node.state):\n",
    "        return node, 0, explored\n",
    "    frontier = deque([node])\n",
    "    explored = set()\n",
    "    while frontier:\n",
    "        node = frontier.popleft()\n",
    "        visitations += 1\n",
    "        explored.add(node.state)\n",
    "        for child in node.expand(problem):\n",
    "            child.parent = node\n",
    "            if child.state not in explored and child not in frontier:\n",
    "                if problem.goal_test(child.state):\n",
    "                    return child, visitations, explored\n",
    "                frontier.append(child)\n",
    "    return None"
   ]
  },
  {
   "cell_type": "code",
   "execution_count": 334,
   "metadata": {},
   "outputs": [
    {
     "name": "stdout",
     "output_type": "stream",
     "text": [
      "Visitamos 3105 nós até encontrar um caminho-solução composto por 123 nós\n"
     ]
    },
    {
     "data": {
      "image/png": "[encoded data removed]",
      "text/plain": [
       "<Figure size 288x288 with 1 Axes>"
      ]
     },
     "metadata": {},
     "output_type": "display_data"
    }
   ],
   "source": [
    "node, visitations, explored = breadth_first_graph_search(problem)\n",
    "path = create_path(node)\n",
    "print_path(path, explored)\n",
    "print(\"Visitamos %d nós até encontrar um caminho-solução composto por %d nós\" % (visitations, len(path)))"
   ]
  },
  {
   "cell_type": "markdown",
   "metadata": {},
   "source": [
    "## Depth First Search\n",
    "\n",
    "A função foi copiada da biblioteca do AIMA com duas adaptações:\n",
    "* Guardamos o caminho da solução encontrada\n",
    "* Guardamos quantos nós foram visitados até a solução ser encontrada"
   ]
  },
  {
   "cell_type": "code",
   "execution_count": 338,
   "metadata": {},
   "outputs": [],
   "source": [
    "def depth_first_graph_search(problem):\n",
    "    \"\"\"Search the deepest nodes in the search tree first.\n",
    "        Search through the successors of a problem to find a goal.\n",
    "        The argument frontier should be an empty queue.\n",
    "        Does not get trapped by loops.\n",
    "        If two paths reach a state, only use the first one. [Figure 3.7]\"\"\"\n",
    "    initial_node = Node(problem.initial)\n",
    "    initial_node.parent = None\n",
    "    frontier = [(initial_node)]  # Stack\n",
    "    visitations = 0\n",
    "    explored = set()\n",
    "    while frontier:\n",
    "        node = frontier.pop()\n",
    "        visitations += 1\n",
    "        if problem.goal_test(node.state):\n",
    "            return node, visitations, explored\n",
    "        explored.add(node.state)\n",
    "        for child in node.expand(problem):\n",
    "            child.parent = node\n",
    "            if child.state not in explored and child not in frontier:\n",
    "                frontier.append(child)\n",
    "    return None"
   ]
  },
  {
   "cell_type": "code",
   "execution_count": 339,
   "metadata": {},
   "outputs": [
    {
     "name": "stdout",
     "output_type": "stream",
     "text": [
      "Visitamos 1422 nós até encontrar um caminho-solução composto por 1111 nós\n"
     ]
    },
    {
     "data": {
      "image/png": "[encoded data removed]",
      "text/plain": [
       "<Figure size 288x288 with 1 Axes>"
      ]
     },
     "metadata": {},
     "output_type": "display_data"
    }
   ],
   "source": [
    "node, visitations, explored = depth_first_graph_search(problem)\n",
    "path = create_path(node)\n",
    "print_path(path, explored)\n",
    "print(\"Visitamos %d nós até encontrar um caminho-solução composto por %d nós\" % (visitations, len(path)))"
   ]
  },
  {
   "cell_type": "markdown",
   "metadata": {},
   "source": [
    "## Best First Search\n",
    "\n",
    "Utilizamos a função do A* da biblioteca do AIMA com a heurística f(n) = h(n) sendo h(n) a distância euclidiana para o nó meta"
   ]
  },
  {
   "cell_type": "code",
   "execution_count": 340,
   "metadata": {},
   "outputs": [],
   "source": [
    "def f1(node):\n",
    "    print(\"aisjd\")\n",
    "    return distance.euclidean(node_positions[node.state], node_positions[3010])"
   ]
  },
  {
   "cell_type": "code",
   "execution_count": 342,
   "metadata": {},
   "outputs": [],
   "source": [
    "def best_first_graph_search(problem, f):\n",
    "    \"\"\"Search the nodes with the lowest f scores first.\n",
    "    You specify the function f(node) that you want to minimize; for example,\n",
    "    if f is a heuristic estimate to the goal, then we have greedy best\n",
    "    first search; if f is node.depth then we have breadth-first search.\n",
    "    There is a subtlety: the line \"f = memoize(f, 'f')\" means that the f\n",
    "    values will be cached on the nodes as they are computed. So after doing\n",
    "    a best first search you can examine the f values of the path returned.\"\"\"\n",
    "    f = memoize(f, 'f')\n",
    "    node = Node(problem.initial)\n",
    "    node.parent = None\n",
    "    visitations = 0\n",
    "    frontier = PriorityQueue('min', f)\n",
    "    frontier.append(node)\n",
    "    explored = set()\n",
    "    while frontier:\n",
    "        node = frontier.pop()\n",
    "        visitations += 1\n",
    "        if problem.goal_test(node.state):\n",
    "            return node, visitations, explored\n",
    "        explored.add(node.state)\n",
    "        for child in node.expand(problem):\n",
    "            child.parent = node\n",
    "            if child.state not in explored and child not in frontier:\n",
    "                frontier.append(child)\n",
    "            elif child in frontier:\n",
    "                if f(child) < frontier[child]:\n",
    "                    del frontier[child]\n",
    "                    frontier.append(child)\n",
    "    return None"
   ]
  },
  {
   "cell_type": "code",
   "execution_count": 343,
   "metadata": {},
   "outputs": [],
   "source": [
    "def astar_search(problem, h=None):\n",
    "    \"\"\"A* search is best-first graph search with f(n) = g(n)+h(n).\n",
    "    You need to specify the h function when you call astar_search, or\n",
    "    else in your Problem subclass.\"\"\"\n",
    "    h = memoize(h or problem.h, 'h')\n",
    "    return best_first_graph_search(problem, lambda n: n.path_cost + h(n))"
   ]
  },
  {
   "cell_type": "code",
   "execution_count": 344,
   "metadata": {},
   "outputs": [
    {
     "name": "stdout",
     "output_type": "stream",
     "text": [
      "Visitamos 3116 nós até encontrar um caminho-solução composto por 123 nós\n"
     ]
    },
    {
     "data": {
      "image/png": "[encoded data removed]",
      "text/plain": [
       "<Figure size 288x288 with 1 Axes>"
      ]
     },
     "metadata": {},
     "output_type": "display_data"
    }
   ],
   "source": [
    "node, visitations, explored = astar_search(problem,f1)\n",
    "path = create_path(node)\n",
    "print_path(path, explored)\n",
    "print(\"Visitamos %d nós até encontrar um caminho-solução composto por %d nós\" % (visitations, len(path)))"
   ]
  },
  {
   "cell_type": "markdown",
   "metadata": {},
   "source": [
    "## A* \n",
    "\n",
    "Aqui utilizamos uma heurística diferente"
   ]
  },
  {
   "cell_type": "code",
   "execution_count": null,
   "metadata": {},
   "outputs": [],
   "source": [
    "def f2(node):\n",
    "    "
   ]
  },
  {
   "cell_type": "code",
   "execution_count": null,
   "metadata": {},
   "outputs": [],
   "source": []
  }
 ],
 "metadata": {
  "kernelspec": {
   "display_name": "Python 3",
   "language": "python",
   "name": "python3"
  },
  "language_info": {
   "codemirror_mode": {
    "name": "ipython",
    "version": 3
   },
   "file_extension": ".py",
   "mimetype": "text/x-python",
   "name": "python",
   "nbconvert_exporter": "python",
   "pygments_lexer": "ipython3",
   "version": "3.5.2"
  }
 },
 "nbformat": 4,
 "nbformat_minor": 2
}
